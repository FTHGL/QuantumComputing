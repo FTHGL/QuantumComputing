{
 "cells": [
  {
   "cell_type": "code",
   "execution_count": 1,
   "id": "7d99852b-6977-44ba-9c79-4181af6ebf22",
   "metadata": {},
   "outputs": [],
   "source": [
    "from qiskit import*\n",
    "from qiskit.tools.visualization import plot_histogram\n",
    "%matplotlib inline "
   ]
  },
  {
   "cell_type": "code",
   "execution_count": 2,
   "id": "cbb8de50-529f-429c-b8e2-096319050bca",
   "metadata": {},
   "outputs": [],
   "source": [
    "#classical search"
   ]
  },
  {
   "cell_type": "code",
   "execution_count": 3,
   "id": "ceb8b5b7-8f27-45c4-97e4-b0a36a2ee0ca",
   "metadata": {},
   "outputs": [],
   "source": [
    "myList = [5,6,4,7,8,9,1,2,3]"
   ]
  },
  {
   "cell_type": "code",
   "execution_count": 4,
   "id": "117526db-e119-444a-9205-6dbf6f37b92a",
   "metadata": {},
   "outputs": [],
   "source": [
    " def blackbox(number):\n",
    "        winningNum=9\n",
    "        if number == winningNum:\n",
    "            response = True\n",
    "        else:\n",
    "            response = False\n",
    "        return response"
   ]
  },
  {
   "cell_type": "code",
   "execution_count": 5,
   "id": "0e8b42bf-ba8a-4e5a-be0e-6581ee343856",
   "metadata": {},
   "outputs": [
    {
     "name": "stdout",
     "output_type": "stream",
     "text": [
      "winning number index : 5\n",
      "execution count: 6\n"
     ]
    }
   ],
   "source": [
    "for index,number in enumerate(myList):\n",
    "    if blackbox(number) is True:\n",
    "        print(f\"winning number index : {index}\")\n",
    "        print(f\"execution count: {index+1}\")\n",
    "        break"
   ]
  },
  {
   "cell_type": "code",
   "execution_count": 6,
   "id": "611ca18a-c328-4c21-94b8-9a1bd32bd134",
   "metadata": {},
   "outputs": [
    {
     "data": {
      "image/png": "[encoded data removed]",
      "text/plain": [
       "<Figure size 146.652x144.48 with 1 Axes>"
      ]
     },
     "execution_count": 6,
     "metadata": {},
     "output_type": "execute_result"
    }
   ],
   "source": [
    "#Grover's Algorithm Quantum model\n",
    "#oracle circuit -(Winning state 11)\n",
    "\n",
    "oracleCircuit = QuantumCircuit(2,name='oraclaeCircuit')\n",
    "oracleCircuit.cz(0,1)\n",
    "oracleCircuit.to_gate()# oracleCircuit transformed to gate\n",
    "oracleCircuit.draw(output='mpl')"
   ]
  },
  {
   "cell_type": "code",
   "execution_count": 8,
   "id": "69812a78-af17-4093-a936-ea5d9c748602",
   "metadata": {},
   "outputs": [
    {
     "data": {
      "image/png": "[encoded data removed]",
      "text/plain": [
       "<Figure size 327.252x204.68 with 1 Axes>"
      ]
     },
     "execution_count": 8,
     "metadata": {},
     "output_type": "execute_result"
    }
   ],
   "source": [
    "mainCircuit = QuantumCircuit(2,2)\n",
    "mainCircuit.h([0,1])\n",
    "mainCircuit.append(oracleCircuit,[0,1])\n",
    "mainCircuit.draw(output='mpl')"
   ]
  },
  {
   "cell_type": "code",
   "execution_count": 9,
   "id": "367bee93-bcd5-495b-b75d-aaf973a9b6f2",
   "metadata": {},
   "outputs": [
    {
     "data": {
      "image/png": "[encoded data removed]",
      "text/plain": [
       "<Figure size 327.252x144.48 with 1 Axes>"
      ]
     },
     "execution_count": 9,
     "metadata": {},
     "output_type": "execute_result"
    }
   ],
   "source": [
    "reflectionCircuit = QuantumCircuit(2,name=\"reflectionCircuit\")\n",
    "reflectionCircuit.h([0,1])\n",
    "reflectionCircuit.z([0,1])\n",
    "reflectionCircuit.cz(0,1)\n",
    "reflectionCircuit.h([0,1])\n",
    "reflectionCircuit.to_gate()\n",
    "reflectionCircuit.draw(output='mpl')"
   ]
  },
  {
   "cell_type": "code",
   "execution_count": 10,
   "id": "6ecba5b8-1eff-4948-9916-ef96736b2233",
   "metadata": {},
   "outputs": [
    {
     "data": {
      "image/png": "[encoded data removed]",
      "text/plain": [
       "<Figure size 628.252x204.68 with 1 Axes>"
      ]
     },
     "execution_count": 10,
     "metadata": {},
     "output_type": "execute_result"
    }
   ],
   "source": [
    "mainCircuit.append(reflectionCircuit,[0,1])\n",
    "mainCircuit.measure([0,1],[0,1])\n",
    "mainCircuit.draw(output='mpl')"
   ]
  },
  {
   "cell_type": "code",
   "execution_count": 11,
   "id": "ace9e27c-a9aa-4c34-8e80-2702de8c8c6b",
   "metadata": {},
   "outputs": [
    {
     "name": "stderr",
     "output_type": "stream",
     "text": [
      "<frozen importlib._bootstrap>:219: RuntimeWarning: scipy._lib.messagestream.MessageStream size changed, may indicate binary incompatibility. Expected 56 from C header, got 64 from PyObject\n"
     ]
    },
    {
     "data": {
      "image/png": "[encoded data removed]",
      "text/plain": [
       "<Figure size 504x360 with 1 Axes>"
      ]
     },
     "execution_count": 11,
     "metadata": {},
     "output_type": "execute_result"
    }
   ],
   "source": [
    "backend = Aer.get_backend('qasm_simulator')\n",
    "result = execute(mainCircuit,backend=backend ,shots=1).result()\n",
    "counts = result.get_counts(mainCircuit)\n",
    "plot_histogram([counts])"
   ]
  },
  {
   "cell_type": "code",
   "execution_count": null,
   "id": "c3959a21-a284-40d1-b473-f43adb911286",
   "metadata": {},
   "outputs": [],
   "source": []
  }
 ],
 "metadata": {
  "kernelspec": {
   "display_name": "Python 3 (ipykernel)",
   "language": "python",
   "name": "python3"
  },
  "language_info": {
   "codemirror_mode": {
    "name": "ipython",
    "version": 3
   },
   "file_extension": ".py",
   "mimetype": "text/x-python",
   "name": "python",
   "nbconvert_exporter": "python",
   "pygments_lexer": "ipython3",
   "version": "3.8.13"
  },
  "widgets": {
   "application/vnd.jupyter.widget-state+json": {
    "state": {},
    "version_major": 2,
    "version_minor": 0
   }
  }
 },
 "nbformat": 4,
 "nbformat_minor": 5
}
