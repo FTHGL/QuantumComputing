{
 "cells": [
  {
   "cell_type": "code",
   "execution_count": 1,
   "id": "9afda2dc-c386-45a9-9462-179761b5960b",
   "metadata": {},
   "outputs": [],
   "source": [
    "from qiskit import *\n",
    "from qiskit.tools.visualization import plot_histogram\n",
    "%matplotlib inline"
   ]
  },
  {
   "cell_type": "code",
   "execution_count": 2,
   "id": "e1bc0313-435b-4fe2-9fd1-e6de4349452d",
   "metadata": {},
   "outputs": [],
   "source": [
    "circuit = QuantumCircuit(2,1)"
   ]
  },
  {
   "cell_type": "code",
   "execution_count": 3,
   "id": "ac3fa135-d9f4-464e-a9d8-34b47b41e0a6",
   "metadata": {},
   "outputs": [
    {
     "data": {
      "image/png": "[encoded data removed]",
      "text/plain": [
       "<Figure size 267.052x204.68 with 1 Axes>"
      ]
     },
     "execution_count": 3,
     "metadata": {},
     "output_type": "execute_result"
    }
   ],
   "source": [
    "circuit.h(0)\n",
    "circuit.x(1)\n",
    "circuit.h(1)\n",
    "circuit.barrier()\n",
    "circuit.draw(output='mpl')"
   ]
  },
  {
   "cell_type": "code",
   "execution_count": 4,
   "id": "efc16f09-9284-418d-ab51-911216262887",
   "metadata": {},
   "outputs": [
    {
     "data": {
      "image/png": "[encoded data removed]",
      "text/plain": [
       "<Figure size 507.852x204.68 with 1 Axes>"
      ]
     },
     "execution_count": 4,
     "metadata": {},
     "output_type": "execute_result"
    }
   ],
   "source": [
    "circuit.cx(0,1)\n",
    "circuit.barrier()\n",
    "circuit.h(0)\n",
    "circuit.barrier()\n",
    "circuit.draw(output='mpl')"
   ]
  },
  {
   "cell_type": "code",
   "execution_count": 5,
   "id": "aed3b102-1c53-4e8d-88e5-39dde5d5d13c",
   "metadata": {},
   "outputs": [
    {
     "data": {
      "image/png": "[encoded data removed]",
      "text/plain": [
       "<Figure size 568.052x204.68 with 1 Axes>"
      ]
     },
     "execution_count": 5,
     "metadata": {},
     "output_type": "execute_result"
    }
   ],
   "source": [
    "circuit.measure(0,0)\n",
    "circuit.draw(output='mpl')"
   ]
  },
  {
   "cell_type": "code",
   "execution_count": 6,
   "id": "7fc69e60-f368-4991-aff2-3f4f134510e6",
   "metadata": {},
   "outputs": [
    {
     "name": "stderr",
     "output_type": "stream",
     "text": [
      "<frozen importlib._bootstrap>:219: RuntimeWarning: scipy._lib.messagestream.MessageStream size changed, may indicate binary incompatibility. Expected 56 from C header, got 64 from PyObject\n"
     ]
    },
    {
     "data": {
      "image/png": "[encoded data removed]",
      "text/plain": [
       "<Figure size 504x360 with 1 Axes>"
      ]
     },
     "execution_count": 6,
     "metadata": {},
     "output_type": "execute_result"
    }
   ],
   "source": [
    "simulator = Aer.get_backend('qasm_simulator')\n",
    "result = execute(circuit,backend=simulator,shots=1024).result()\n",
    "counts = result.get_counts(circuit)\n",
    "\n",
    "plot_histogram(counts)"
   ]
  },
  {
   "cell_type": "code",
   "execution_count": 7,
   "id": "784d3ab4-16f0-4845-8373-693fdd919b56",
   "metadata": {},
   "outputs": [
    {
     "data": {
      "text/plain": [
       "<AccountProvider for IBMQ(hub='ibm-q', group='open', project='main')>"
      ]
     },
     "execution_count": 7,
     "metadata": {},
     "output_type": "execute_result"
    }
   ],
   "source": [
    "#real quantum computer\n",
    "IBMQ.load_account()"
   ]
  },
  {
   "cell_type": "code",
   "execution_count": 8,
   "id": "7617e04a-ab9c-45a1-a0ea-72089d3ac7d3",
   "metadata": {},
   "outputs": [
    {
     "data": {
      "text/plain": [
       "[<IBMQSimulator('ibmq_qasm_simulator') from IBMQ(hub='ibm-q', group='open', project='main')>,\n",
       " <IBMQBackend('ibmq_lima') from IBMQ(hub='ibm-q', group='open', project='main')>,\n",
       " <IBMQBackend('ibmq_belem') from IBMQ(hub='ibm-q', group='open', project='main')>,\n",
       " <IBMQBackend('ibmq_quito') from IBMQ(hub='ibm-q', group='open', project='main')>,\n",
       " <IBMQSimulator('simulator_statevector') from IBMQ(hub='ibm-q', group='open', project='main')>,\n",
       " <IBMQSimulator('simulator_mps') from IBMQ(hub='ibm-q', group='open', project='main')>,\n",
       " <IBMQSimulator('simulator_extended_stabilizer') from IBMQ(hub='ibm-q', group='open', project='main')>,\n",
       " <IBMQSimulator('simulator_stabilizer') from IBMQ(hub='ibm-q', group='open', project='main')>,\n",
       " <IBMQBackend('ibmq_manila') from IBMQ(hub='ibm-q', group='open', project='main')>,\n",
       " <IBMQBackend('ibm_nairobi') from IBMQ(hub='ibm-q', group='open', project='main')>,\n",
       " <IBMQBackend('ibm_oslo') from IBMQ(hub='ibm-q', group='open', project='main')>]"
      ]
     },
     "execution_count": 8,
     "metadata": {},
     "output_type": "execute_result"
    }
   ],
   "source": [
    "provider = IBMQ.get_provider(\"ibm-q\")\n",
    "provider.backends()   # current Quantum Computers"
   ]
  },
  {
   "cell_type": "code",
   "execution_count": 9,
   "id": "ea513e3d-db04-45a5-9ad3-f40aab320bcf",
   "metadata": {},
   "outputs": [
    {
     "name": "stdout",
     "output_type": "stream",
     "text": [
      "ibmq_qasm_simulator : 0 & simulated qubits\n",
      "ibmq_lima : 5 & 5 qubits\n",
      "ibmq_belem : 2 & 5 qubits\n",
      "ibmq_quito : 83 & 5 qubits\n",
      "simulator_statevector : 1 & simulated qubits\n",
      "simulator_mps : 1 & simulated qubits\n",
      "simulator_extended_stabilizer : 1 & simulated qubits\n",
      "simulator_stabilizer : 1 & simulated qubits\n",
      "ibmq_manila : 1 & 5 qubits\n",
      "ibm_nairobi : 20 & 7 qubits\n",
      "ibm_oslo : 0 & 7 qubits\n"
     ]
    }
   ],
   "source": [
    "for backend in provider.backends():\n",
    "    try:\n",
    "        qubitCount = len(backend.properties().qubits)\n",
    "    except:\n",
    "        qubitCount = \"simulated\"\n",
    "    print(f\"{backend.name()} : {backend.status().pending_jobs} & {qubitCount} qubits\") # quantum com name and qubit count and queuq(backend.status().pending_jobs)"
   ]
  },
  {
   "cell_type": "code",
   "execution_count": 10,
   "id": "bcc8e109-39b6-4923-8a22-e3e4b4e67524",
   "metadata": {},
   "outputs": [],
   "source": [
    "quantumComputer = provider.get_backend(\"ibmq_belem\")"
   ]
  },
  {
   "cell_type": "code",
   "execution_count": 11,
   "id": "933f4991-02d2-4d1c-80b4-095b62a49b22",
   "metadata": {},
   "outputs": [],
   "source": [
    "quantum_result = execute(circuit,backend=quantumComputer,shots=1024).result()"
   ]
  },
  {
   "cell_type": "code",
   "execution_count": 12,
   "id": "0246410a-296f-4ee5-aa50-5cb8120ff726",
   "metadata": {},
   "outputs": [
    {
     "data": {
      "application/vnd.jupyter.widget-view+json": {
       "model_id": "",
       "version_major": 2,
       "version_minor": 0
      },
      "text/plain": [
       "Accordion(children=(VBox(layout=Layout(max_width='710px', min_width='710px')),), layout=Layout(max_height='500…"
      ]
     },
     "metadata": {},
     "output_type": "display_data"
    },
    {
     "data": {
      "application/javascript": [
       "\n",
       "        const isLab = window['Jupyter'] === undefined;\n",
       "        const notebook = document.querySelector( isLab ? 'div.jp-Notebook' : '#site');\n",
       "        const jobWidget = document.querySelector('div.job_widget');\n",
       "        notebook.prepend(jobWidget);\n",
       "        jobWidget.style.zIndex = '999';\n",
       "        jobWidget.style.position = isLab ? 'sticky' : 'fixed';\n",
       "        jobWidget.style.boxShadow = '5px 5px 5px -3px black';\n",
       "        jobWidget.style.opacity = '0.95';\n",
       "        if (isLab) {\n",
       "            jobWidget.style.top = '0';\n",
       "            jobWidget.style.left = '0';\n",
       "        }\n",
       "        "
      ],
      "text/plain": [
       "<IPython.core.display.Javascript object>"
      ]
     },
     "metadata": {},
     "output_type": "display_data"
    },
    {
     "data": {
      "image/png": "[encoded data removed]",
      "text/plain": [
       "<Figure size 504x360 with 1 Axes>"
      ]
     },
     "execution_count": 12,
     "metadata": {},
     "output_type": "execute_result"
    }
   ],
   "source": [
    "\n",
    "import qiskit.tools.jupyter\n",
    "%qiskit_job_watcher #durumun ne olduğunu gösteriyo\n",
    "\n",
    "job = execute(circuit,backend=quantumComputer)\n",
    "\n",
    "quantum_result = job.result()\n",
    "plot_histogram(quantum_result.get_counts(circuit))"
   ]
  },
  {
   "cell_type": "code",
   "execution_count": 13,
   "id": "a66c7457-cc31-4483-899c-9ec2c86c0fdd",
   "metadata": {},
   "outputs": [],
   "source": [
    "%qiskit_disable_job_watcher"
   ]
  },
  {
   "cell_type": "code",
   "execution_count": null,
   "id": "bbd04798-c23d-42ae-8c89-2e687120da3f",
   "metadata": {},
   "outputs": [],
   "source": []
  }
 ],
 "metadata": {
  "kernelspec": {
   "display_name": "Python 3 (ipykernel)",
   "language": "python",
   "name": "python3"
  },
  "language_info": {
   "codemirror_mode": {
    "name": "ipython",
    "version": 3
   },
   "file_extension": ".py",
   "mimetype": "text/x-python",
   "name": "python",
   "nbconvert_exporter": "python",
   "pygments_lexer": "ipython3",
   "version": "3.8.13"
  },
  "widgets": {
   "application/vnd.jupyter.widget-state+json": {
    "state": {
     "000e179ad6b74f749dd4e83bdd159e11": {
      "model_module": "@jupyter-widgets/base",
      "model_module_version": "1.2.0",
      "model_name": "LayoutModel",
      "state": {
       "margin": "0px 5px 0px 0px",
       "width": "32px"
      }
     },
     "0a19a473ee3a4d35b3d4a9d13f8a031f": {
      "model_module": "@jupyter-widgets/base",
      "model_module_version": "1.2.0",
      "model_name": "LayoutModel",
      "state": {
       "grid_template_areas": "\n                                       \". . . . right \"\n                                        ",
       "grid_template_columns": "20% 20% 20% 20% 20%",
       "width": "100%"
      }
     },
     "1471df47f66f4620b881b4deb04b27b6": {
      "model_module": "@jupyter-widgets/base",
      "model_module_version": "1.2.0",
      "model_name": "LayoutModel",
      "state": {
       "width": "95px"
      }
     },
     "1549d1afec124eed8a3cc486103c2ee1": {
      "model_module": "@jupyter-widgets/controls",
      "model_module_version": "1.5.0",
      "model_name": "HTMLModel",
      "state": {
       "layout": "IPY_MODEL_3522a8f9cc394f5181364550ea214f8f",
       "style": "IPY_MODEL_d42f9e66668e43e493856c05f5044497",
       "value": "<h5>Queue</h5>"
      }
     },
     "187d5cee29624e689fb608c26dc8f486": {
      "model_module": "@jupyter-widgets/controls",
      "model_module_version": "1.5.0",
      "model_name": "HTMLModel",
      "state": {
       "layout": "IPY_MODEL_1471df47f66f4620b881b4deb04b27b6",
       "style": "IPY_MODEL_e6b531e23bb64eaebd0ac59d6d0bbe8a",
       "value": "<font style='color:#34BC6E'>DONE</font>"
      }
     },
     "19d30fdc854648f0a12ed945c4877300": {
      "model_module": "@jupyter-widgets/controls",
      "model_module_version": "1.5.0",
      "model_name": "HTMLModel",
      "state": {
       "layout": "IPY_MODEL_7ffcdbe998e841139a00ea45ed60466b",
       "style": "IPY_MODEL_f4a2c84f94e642b8aedff062f3de99f1",
       "value": "<h5>Message</h5>"
      }
     },
     "283ca42fbbe948b4a65166fa8353c12b": {
      "model_module": "@jupyter-widgets/base",
      "model_module_version": "1.2.0",
      "model_name": "LayoutModel",
      "state": {
       "overflow_x": "scroll"
      }
     },
     "2d368a835f654050a4c478a4d8c5e5c5": {
      "model_module": "@jupyter-widgets/base",
      "model_module_version": "1.2.0",
      "model_name": "LayoutModel",
      "state": {
       "max_height": "500px",
       "max_width": "750px",
       "overflow_x": "hidden",
       "overflow_y": "scroll",
       "visibility": "visible",
       "width": "auto"
      }
     },
     "2f205920a25a49508e5b568b741ec8ba": {
      "model_module": "@jupyter-widgets/base",
      "model_module_version": "1.2.0",
      "model_name": "LayoutModel",
      "state": {
       "width": "145px"
      }
     },
     "3522a8f9cc394f5181364550ea214f8f": {
      "model_module": "@jupyter-widgets/base",
      "model_module_version": "1.2.0",
      "model_name": "LayoutModel",
      "state": {
       "width": "70px"
      }
     },
     "398ed098694d46a8970ec2193f9f8c63": {
      "model_module": "@jupyter-widgets/controls",
      "model_module_version": "1.5.0",
      "model_name": "DescriptionStyleModel",
      "state": {
       "description_width": ""
      }
     },
     "3b64ad31337b47059adf340f1fb7e956": {
      "model_module": "@jupyter-widgets/controls",
      "model_module_version": "1.5.0",
      "model_name": "DescriptionStyleModel",
      "state": {
       "description_width": ""
      }
     },
     "3f729b0e020944688d3eeca0519f324a": {
      "model_module": "@jupyter-widgets/controls",
      "model_module_version": "1.5.0",
      "model_name": "ButtonModel",
      "state": {
       "button_style": "primary",
       "description": "Clear",
       "layout": "IPY_MODEL_fdae7de2e6af4d05a1688684d7bf8ad6",
       "style": "IPY_MODEL_79ee294a863f4572b404af824fc60b15"
      }
     },
     "41bda8ac554942dca0dc8b8a31e53bc5": {
      "model_module": "@jupyter-widgets/controls",
      "model_module_version": "1.5.0",
      "model_name": "DescriptionStyleModel",
      "state": {
       "description_width": ""
      }
     },
     "47c28ac2e0e04fbd837ec7e427d3f705": {
      "model_module": "@jupyter-widgets/controls",
      "model_module_version": "1.5.0",
      "model_name": "HTMLModel",
      "state": {
       "layout": "IPY_MODEL_c59d522313f94b4ab470a592227eda8a",
       "style": "IPY_MODEL_d42dfdfce42e4cd59cc1c56248cc5b80",
       "value": "<h5>Status</h5>"
      }
     },
     "4aeb4b09413a498ba61c8f76c85aeb95": {
      "model_module": "@jupyter-widgets/base",
      "model_module_version": "1.2.0",
      "model_name": "LayoutModel",
      "state": {
       "margin": "0px 0px 0px 37px",
       "width": "600px"
      }
     },
     "52b7043d73664863a027f3ef1c0e4d90": {
      "model_module": "@jupyter-widgets/controls",
      "model_module_version": "1.5.0",
      "model_name": "HTMLModel",
      "state": {
       "layout": "IPY_MODEL_283ca42fbbe948b4a65166fa8353c12b",
       "style": "IPY_MODEL_d058154e680c4daab64b3184959509c3",
       "value": "job has successfully run"
      }
     },
     "54f3bc4d002c4b25aa9b536dc0b1ab6e": {
      "model_module": "@jupyter-widgets/controls",
      "model_module_version": "1.5.0",
      "model_name": "HTMLModel",
      "state": {
       "layout": "IPY_MODEL_e676864129d34061ac4d39d04dfc7ac6",
       "style": "IPY_MODEL_b5b2fd5136f743248a6d1bf173e48dcd",
       "value": "638669dcd5b1bc6cc3d8c255"
      }
     },
     "5d5c889304b04ed0828d44e810d584ce": {
      "model_module": "@jupyter-widgets/controls",
      "model_module_version": "1.5.0",
      "model_name": "HTMLModel",
      "state": {
       "layout": "IPY_MODEL_faafc36cc69642ce89937a46a488faaf",
       "style": "IPY_MODEL_3b64ad31337b47059adf340f1fb7e956",
       "value": "<h5>Job ID</h5>"
      }
     },
     "65b9dff2ba4f409db2d757d096f99c49": {
      "model_module": "@jupyter-widgets/base",
      "model_module_version": "1.2.0",
      "model_name": "LayoutModel",
      "state": {
       "width": "145px"
      }
     },
     "6b2108d9fb274e3ab8323ee7e51e3264": {
      "model_module": "@jupyter-widgets/base",
      "model_module_version": "1.2.0",
      "model_name": "LayoutModel",
      "state": {
       "width": "70px"
      }
     },
     "6cb99e2b05e8496d8e8abfcbd62df2ef": {
      "model_module": "@jupyter-widgets/controls",
      "model_module_version": "1.5.0",
      "model_name": "GridBoxModel",
      "state": {
       "children": [
        "IPY_MODEL_3f729b0e020944688d3eeca0519f324a"
       ],
       "layout": "IPY_MODEL_0a19a473ee3a4d35b3d4a9d13f8a031f"
      }
     },
     "77ff848d76b9407a91c1f641a8ac5f6b": {
      "model_module": "@jupyter-widgets/controls",
      "model_module_version": "1.5.0",
      "model_name": "HTMLModel",
      "state": {
       "layout": "IPY_MODEL_2f205920a25a49508e5b568b741ec8ba",
       "style": "IPY_MODEL_94630831767e471ba3566fc9674a6eb6",
       "value": "<h5>Backend</h5>"
      }
     },
     "79ee294a863f4572b404af824fc60b15": {
      "model_module": "@jupyter-widgets/controls",
      "model_module_version": "1.5.0",
      "model_name": "ButtonStyleModel",
      "state": {}
     },
     "7a9f50b06dc94d37811b65575bc5175e": {
      "model_module": "@jupyter-widgets/base",
      "model_module_version": "1.2.0",
      "model_name": "LayoutModel",
      "state": {
       "max_width": "710px",
       "min_width": "710px"
      }
     },
     "7ffcdbe998e841139a00ea45ed60466b": {
      "model_module": "@jupyter-widgets/base",
      "model_module_version": "1.2.0",
      "model_name": "LayoutModel",
      "state": {}
     },
     "809843512c144ff8b268ad04928fc49a": {
      "model_module": "@jupyter-widgets/controls",
      "model_module_version": "1.5.0",
      "model_name": "HTMLModel",
      "state": {
       "layout": "IPY_MODEL_f27f074e597a4f3c9cd8005c4503b362",
       "style": "IPY_MODEL_8122b4b6e1c94b2a99a9dadbde68572d",
       "value": "<p style='font-family: IBM Plex Sans, Arial, Helvetica, sans-serif; font-size: 20px; font-weight: medium;'>Circuit Properties</p>"
      }
     },
     "8122b4b6e1c94b2a99a9dadbde68572d": {
      "model_module": "@jupyter-widgets/controls",
      "model_module_version": "1.5.0",
      "model_name": "DescriptionStyleModel",
      "state": {
       "description_width": ""
      }
     },
     "8c676b8b44124b0489153b4f822be3d3": {
      "model_module": "@jupyter-widgets/base",
      "model_module_version": "1.2.0",
      "model_name": "LayoutModel",
      "state": {
       "max_width": "700px",
       "min_width": "700px"
      }
     },
     "9015d69f65fa4639a21555d37fda9652": {
      "model_module": "@jupyter-widgets/controls",
      "model_module_version": "1.5.0",
      "model_name": "HTMLModel",
      "state": {
       "layout": "IPY_MODEL_65b9dff2ba4f409db2d757d096f99c49",
       "style": "IPY_MODEL_398ed098694d46a8970ec2193f9f8c63",
       "value": "ibmq_belem"
      }
     },
     "9351ec42fdd24c9cb7d56ea1dc3f788c": {
      "model_module": "@jupyter-widgets/controls",
      "model_module_version": "1.5.0",
      "model_name": "ButtonModel",
      "state": {
       "icon": "close",
       "layout": "IPY_MODEL_000e179ad6b74f749dd4e83bdd159e11",
       "style": "IPY_MODEL_aec614e459d444c3a5374dde8062bc57"
      }
     },
     "94630831767e471ba3566fc9674a6eb6": {
      "model_module": "@jupyter-widgets/controls",
      "model_module_version": "1.5.0",
      "model_name": "DescriptionStyleModel",
      "state": {
       "description_width": ""
      }
     },
     "aec614e459d444c3a5374dde8062bc57": {
      "model_module": "@jupyter-widgets/controls",
      "model_module_version": "1.5.0",
      "model_name": "ButtonStyleModel",
      "state": {
       "button_color": "white"
      }
     },
     "b5b2fd5136f743248a6d1bf173e48dcd": {
      "model_module": "@jupyter-widgets/controls",
      "model_module_version": "1.5.0",
      "model_name": "DescriptionStyleModel",
      "state": {
       "description_width": ""
      }
     },
     "b69aaad7887a4a42a2bc7f76943e1565": {
      "model_module": "@jupyter-widgets/controls",
      "model_module_version": "1.5.0",
      "model_name": "HTMLModel",
      "state": {
       "layout": "IPY_MODEL_6b2108d9fb274e3ab8323ee7e51e3264",
       "style": "IPY_MODEL_41bda8ac554942dca0dc8b8a31e53bc5",
       "value": "-"
      }
     },
     "c59d522313f94b4ab470a592227eda8a": {
      "model_module": "@jupyter-widgets/base",
      "model_module_version": "1.2.0",
      "model_name": "LayoutModel",
      "state": {
       "width": "95px"
      }
     },
     "d058154e680c4daab64b3184959509c3": {
      "model_module": "@jupyter-widgets/controls",
      "model_module_version": "1.5.0",
      "model_name": "DescriptionStyleModel",
      "state": {
       "description_width": ""
      }
     },
     "d42dfdfce42e4cd59cc1c56248cc5b80": {
      "model_module": "@jupyter-widgets/controls",
      "model_module_version": "1.5.0",
      "model_name": "DescriptionStyleModel",
      "state": {
       "description_width": ""
      }
     },
     "d42f9e66668e43e493856c05f5044497": {
      "model_module": "@jupyter-widgets/controls",
      "model_module_version": "1.5.0",
      "model_name": "DescriptionStyleModel",
      "state": {
       "description_width": ""
      }
     },
     "d881b115153f477eacc0e59e2ba798f3": {
      "model_module": "@jupyter-widgets/controls",
      "model_module_version": "1.5.0",
      "model_name": "HBoxModel",
      "state": {
       "children": [
        "IPY_MODEL_9351ec42fdd24c9cb7d56ea1dc3f788c",
        "IPY_MODEL_54f3bc4d002c4b25aa9b536dc0b1ab6e",
        "IPY_MODEL_9015d69f65fa4639a21555d37fda9652",
        "IPY_MODEL_187d5cee29624e689fb608c26dc8f486",
        "IPY_MODEL_b69aaad7887a4a42a2bc7f76943e1565",
        "IPY_MODEL_52b7043d73664863a027f3ef1c0e4d90"
       ],
       "layout": "IPY_MODEL_8c676b8b44124b0489153b4f822be3d3"
      }
     },
     "e676864129d34061ac4d39d04dfc7ac6": {
      "model_module": "@jupyter-widgets/base",
      "model_module_version": "1.2.0",
      "model_name": "LayoutModel",
      "state": {
       "width": "190px"
      }
     },
     "e6b531e23bb64eaebd0ac59d6d0bbe8a": {
      "model_module": "@jupyter-widgets/controls",
      "model_module_version": "1.5.0",
      "model_name": "DescriptionStyleModel",
      "state": {
       "description_width": ""
      }
     },
     "ec8c79b91bcb44d7bcfa3197172a319c": {
      "model_module": "@jupyter-widgets/controls",
      "model_module_version": "1.5.0",
      "model_name": "HBoxModel",
      "state": {
       "children": [
        "IPY_MODEL_5d5c889304b04ed0828d44e810d584ce",
        "IPY_MODEL_77ff848d76b9407a91c1f641a8ac5f6b",
        "IPY_MODEL_47c28ac2e0e04fbd837ec7e427d3f705",
        "IPY_MODEL_1549d1afec124eed8a3cc486103c2ee1",
        "IPY_MODEL_19d30fdc854648f0a12ed945c4877300"
       ],
       "layout": "IPY_MODEL_4aeb4b09413a498ba61c8f76c85aeb95"
      }
     },
     "f27f074e597a4f3c9cd8005c4503b362": {
      "model_module": "@jupyter-widgets/base",
      "model_module_version": "1.2.0",
      "model_name": "LayoutModel",
      "state": {
       "margin": "0px 0px 10px 0px"
      }
     },
     "f4a2c84f94e642b8aedff062f3de99f1": {
      "model_module": "@jupyter-widgets/controls",
      "model_module_version": "1.5.0",
      "model_name": "DescriptionStyleModel",
      "state": {
       "description_width": ""
      }
     },
     "f9e61374de3d4d83bac2e228faf38edf": {
      "model_module": "@jupyter-widgets/controls",
      "model_module_version": "1.5.0",
      "model_name": "VBoxModel",
      "state": {
       "children": [
        "IPY_MODEL_6cb99e2b05e8496d8e8abfcbd62df2ef",
        "IPY_MODEL_ec8c79b91bcb44d7bcfa3197172a319c",
        "IPY_MODEL_d881b115153f477eacc0e59e2ba798f3"
       ],
       "layout": "IPY_MODEL_7a9f50b06dc94d37811b65575bc5175e"
      }
     },
     "faafc36cc69642ce89937a46a488faaf": {
      "model_module": "@jupyter-widgets/base",
      "model_module_version": "1.2.0",
      "model_name": "LayoutModel",
      "state": {
       "width": "190px"
      }
     },
     "fdae7de2e6af4d05a1688684d7bf8ad6": {
      "model_module": "@jupyter-widgets/base",
      "model_module_version": "1.2.0",
      "model_name": "LayoutModel",
      "state": {
       "grid_area": "right",
       "padding": "0px 0px 0px 0px",
       "width": "70px"
      }
     }
    },
    "version_major": 2,
    "version_minor": 0
   }
  }
 },
 "nbformat": 4,
 "nbformat_minor": 5
}
