{
 "cells": [
  {
   "cell_type": "code",
   "execution_count": 1,
   "id": "1f2bd584-8a02-42f9-a8ab-954a95b2347e",
   "metadata": {},
   "outputs": [
    {
     "name": "stderr",
     "output_type": "stream",
     "text": [
      "<frozen importlib._bootstrap>:219: RuntimeWarning: scipy._lib.messagestream.MessageStream size changed, may indicate binary incompatibility. Expected 56 from C header, got 64 from PyObject\n"
     ]
    }
   ],
   "source": [
    "from qiskit import *\n",
    "from qiskit.tools.visualization import plot_histogram\n",
    "from qiskit.circuit.library import PhaseOracle\n",
    "from qiskit.algorithms import Grover, AmplificationProblem\n",
    "%matplotlib inline\n"
   ]
  },
  {
   "cell_type": "code",
   "execution_count": 2,
   "id": "440cba9a-ca63-484a-ba1d-8715e2d2b920",
   "metadata": {},
   "outputs": [],
   "source": [
    "oracle = PhaseOracle('((a & b) | (c & d)) & ~(b & d)')\n",
    "problem = AmplificationProblem(oracle=oracle, is_good_state=oracle.evaluate_bitstring)\n",
    "backend = Aer.get_backend('qasm_simulator')\n",
    "grover = Grover(quantum_instance=backend)\n",
    "result = grover.amplify(problem)"
   ]
  },
  {
   "cell_type": "code",
   "execution_count": 3,
   "id": "4b198f27-b251-4265-aa27-4e70c4ef3a5c",
   "metadata": {},
   "outputs": [
    {
     "name": "stdout",
     "output_type": "stream",
     "text": [
      "{'1101': 277, '0011': 247, '0111': 246, '1100': 254}\n"
     ]
    }
   ],
   "source": [
    "print(result.circuit_results[0])"
   ]
  },
  {
   "cell_type": "code",
   "execution_count": 4,
   "id": "7fe7b1ca-c42e-4d78-b51f-46524398568b",
   "metadata": {},
   "outputs": [
    {
     "data": {
      "image/png": "[encoded data removed]",
      "text/plain": [
       "<Figure size 504x360 with 1 Axes>"
      ]
     },
     "execution_count": 4,
     "metadata": {},
     "output_type": "execute_result"
    }
   ],
   "source": [
    "plot_histogram(result.circuit_results)"
   ]
  },
  {
   "cell_type": "code",
   "execution_count": null,
   "id": "0e549502-cf1b-4cab-b183-8645eca7935d",
   "metadata": {},
   "outputs": [],
   "source": [
    "#a-b-c-d\n",
    "#situations\n",
    "\n",
    "#a-b\n",
    "#a-b-c\n",
    "#c-d\n",
    "#a-c-d"
   ]
  }
 ],
 "metadata": {
  "kernelspec": {
   "display_name": "Python 3 (ipykernel)",
   "language": "python",
   "name": "python3"
  },
  "language_info": {
   "codemirror_mode": {
    "name": "ipython",
    "version": 3
   },
   "file_extension": ".py",
   "mimetype": "text/x-python",
   "name": "python",
   "nbconvert_exporter": "python",
   "pygments_lexer": "ipython3",
   "version": "3.8.13"
  },
  "widgets": {
   "application/vnd.jupyter.widget-state+json": {
    "state": {},
    "version_major": 2,
    "version_minor": 0
   }
  }
 },
 "nbformat": 4,
 "nbformat_minor": 5
}
